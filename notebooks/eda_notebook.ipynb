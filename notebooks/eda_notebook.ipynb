{
 "cells": [
  {
   "cell_type": "code",
   "execution_count": null,
   "id": "74c5c3bf",
   "metadata": {},
   "outputs": [],
   "source": [
    "import sys, os\n",
    "sys.path.insert(0, os.path.abspath('..')) \n",
    "\n",
    "from scripts.text_stats import add_headline_length, get_headline_length_stats, extract_top_keywords\n",
    "from scripts.time_analysis import add_date_columns, get_articles_per_day, get_articles_by_hour\n",
    "from scripts.publisher_analysis import count_articles_per_publisher, extract_publisher_domains\n",
    "from scripts.plotting import plot_line, plot_bar\n",
    "\n",
    "# Load data\n",
    "import pandas as pd\n",
    "df = pd.read_csv(\"../data/raw_analyst_ratings.csv\", parse_dates=[\"date\"])\n",
    "\n",
    "# Text statistics\n",
    "df = add_headline_length(df)\n",
    "print(get_headline_length_stats(df))\n",
    "print(extract_top_keywords(df))\n",
    "\n",
    "# Time analysis\n",
    "df = add_date_columns(df)\n",
    "plot_line(get_articles_per_day(df), \"Articles Over Time\", \"Date\", \"Count\")\n",
    "plot_bar(get_articles_by_hour(df), \"Articles by Hour\", \"Hour\", \"Count\")\n",
    "\n",
    "# Publisher analysis\n",
    "print(count_articles_per_publisher(df))\n",
    "print(extract_publisher_domains(df))\n"
   ]
  }
 ],
 "metadata": {
  "kernelspec": {
   "display_name": ".venv",
   "language": "python",
   "name": "python3"
  },
  "language_info": {
   "codemirror_mode": {
    "name": "ipython",
    "version": 3
   },
   "file_extension": ".py",
   "mimetype": "text/x-python",
   "name": "python",
   "nbconvert_exporter": "python",
   "pygments_lexer": "ipython3",
   "version": "3.13.1"
  }
 },
 "nbformat": 4,
 "nbformat_minor": 5
}
